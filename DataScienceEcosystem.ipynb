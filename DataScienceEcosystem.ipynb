{
 "cells": [
  {
   "cell_type": "markdown",
   "id": "00d615ab-e9ca-44a9-aa33-22b8d03e44fe",
   "metadata": {},
   "source": [
    "# Data Science Tools and Ecosystem"
   ]
  },
  {
   "cell_type": "markdown",
   "id": "ca381e4b-85d2-4880-96e8-0758a06373fb",
   "metadata": {},
   "source": [
    "In this notebook, Data Science Tools and Ecosystem are summarized."
   ]
  },
  {
   "cell_type": "markdown",
   "id": "1f5426aa-970b-4a70-af0f-e06d57653c34",
   "metadata": {},
   "source": [
    "Some of the popular languages that Data Scientists use are:\n",
    "    \n",
    "    1. Python\n",
    "    2. R\n",
    "    3. Julia"
   ]
  },
  {
   "cell_type": "markdown",
   "id": "6800186a-fecf-43f1-ba6b-6478630102a6",
   "metadata": {},
   "source": [
    "Some of the commonly used libraries used by Data Scientists include:\n",
    "    \n",
    "    1. Pandas\n",
    "    2. Numpy\n",
    "    3. MatPlotLib"
   ]
  },
  {
   "cell_type": "markdown",
   "id": "480a6240-6f6e-41e5-ae80-66b703feec93",
   "metadata": {},
   "source": [
    "| Data Science Tools |\n",
    "|------|\n",
    "| Python|\n",
    "| R Studio|\n",
    "| Apache Spark|"
   ]
  },
  {
   "cell_type": "markdown",
   "id": "69e1beed-4f85-4ec5-9774-509a8cbaa4b3",
   "metadata": {},
   "source": [
    "### Below are a few examples of evaluating arithmetic expressions in Python"
   ]
  },
  {
   "cell_type": "code",
   "execution_count": 2,
   "id": "2c6ef97f-ee85-4881-aa1a-207da384292d",
   "metadata": {
    "tags": []
   },
   "outputs": [
    {
     "data": {
      "text/plain": [
       "17"
      ]
     },
     "execution_count": 2,
     "metadata": {},
     "output_type": "execute_result"
    }
   ],
   "source": [
    "#This is a simple arithmetic expression to multiply then add integers\n",
    "\n",
    "(3*4)+5"
   ]
  },
  {
   "cell_type": "code",
   "execution_count": 4,
   "id": "2dd09f65-7d05-4457-a579-e78e68f5d177",
   "metadata": {
    "tags": []
   },
   "outputs": [
    {
     "data": {
      "text/plain": [
       "3.3333333333333335"
      ]
     },
     "execution_count": 4,
     "metadata": {},
     "output_type": "execute_result"
    }
   ],
   "source": [
    "# This will convert 200 minutes to hours by dividing by 60.\n",
    "\n",
    "200/60"
   ]
  },
  {
   "cell_type": "markdown",
   "id": "dc4667e1-f10e-414c-9562-d3ff5cce47a9",
   "metadata": {},
   "source": [
    "**Objectives**:\n",
    "    \n",
    "    1. List popular languages for Data Science\n",
    "    2. Create a code cell to convert minutes to hours\n",
    "    3. Create a code cell to multiple and add numbers"
   ]
  },
  {
   "cell_type": "markdown",
   "id": "f44d2244-f22e-40c0-b6b3-3bbb48423b88",
   "metadata": {},
   "source": [
    "## Author\n",
    "Andrew"
   ]
  },
  {
   "cell_type": "code",
   "execution_count": null,
   "id": "651aa416-7e0b-4c04-8806-c6a971990e8a",
   "metadata": {},
   "outputs": [],
   "source": []
  }
 ],
 "metadata": {
  "kernelspec": {
   "display_name": "Python",
   "language": "python",
   "name": "conda-env-python-py"
  },
  "language_info": {
   "codemirror_mode": {
    "name": "ipython",
    "version": 3
   },
   "file_extension": ".py",
   "mimetype": "text/x-python",
   "name": "python",
   "nbconvert_exporter": "python",
   "pygments_lexer": "ipython3",
   "version": "3.7.12"
  }
 },
 "nbformat": 4,
 "nbformat_minor": 5
}
